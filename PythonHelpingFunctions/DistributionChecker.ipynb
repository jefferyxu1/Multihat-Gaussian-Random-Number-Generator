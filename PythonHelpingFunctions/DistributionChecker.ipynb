{
 "cells": [
  {
   "cell_type": "code",
   "execution_count": 16,
   "metadata": {},
   "outputs": [],
   "source": [
    "import numpy as np\n",
    "import matplotlib.pyplot as plt\n",
    "file = open(\"output3.txt\", \"r\")\n",
    "data = []\n",
    "while True:\n",
    "    line = file.readline()\n",
    "    if not line:\n",
    "        break\n",
    "    data.append(line.strip())"
   ]
  },
  {
   "cell_type": "code",
   "execution_count": 17,
   "metadata": {},
   "outputs": [],
   "source": [
    "num = data\n",
    "for i in range(len(num)):\n",
    "    num[i] = int(num[i]) / 4096"
   ]
  },
  {
   "cell_type": "code",
   "execution_count": 18,
   "metadata": {},
   "outputs": [
    {
     "data": {
      "image/png": "[encoded data removed]",
      "text/plain": [
       "<Figure size 432x288 with 1 Axes>"
      ]
     },
     "metadata": {
      "needs_background": "light"
     },
     "output_type": "display_data"
    }
   ],
   "source": [
    "plt.hist(num, 100)\n",
    "plt.show()"
   ]
  },
  {
   "cell_type": "code",
   "execution_count": 4,
   "metadata": {},
   "outputs": [
    {
     "name": "stdout",
     "output_type": "stream",
     "text": [
      "1std:  0.7244301908021575\n",
      "1std to 2std:  0.233935394590688\n"
     ]
    }
   ],
   "source": [
    "\n",
    "count = 0\n",
    "for n in num:\n",
    "    if abs(n) < 1:\n",
    "        count += 1\n",
    "        \n",
    "print(\"1std: \", count/len(num))\n",
    "\n",
    "count = 0\n",
    "for n in num:\n",
    "    if abs(n) > 1 and abs(n) < 2:\n",
    "        count += 1\n",
    "        \n",
    "print(\"1std to 2std: \", count/len(num))"
   ]
  },
  {
   "cell_type": "code",
   "execution_count": 5,
   "metadata": {},
   "outputs": [
    {
     "name": "stdout",
     "output_type": "stream",
     "text": [
      "4.336181640625\n",
      "-4.64697265625\n"
     ]
    }
   ],
   "source": [
    "print(max(num))\n",
    "print(min(num))"
   ]
  }
 ],
 "metadata": {
  "kernelspec": {
   "display_name": "Python 3",
   "language": "python",
   "name": "python3"
  },
  "language_info": {
   "codemirror_mode": {
    "name": "ipython",
    "version": 3
   },
   "file_extension": ".py",
   "mimetype": "text/x-python",
   "name": "python",
   "nbconvert_exporter": "python",
   "pygments_lexer": "ipython3",
   "version": "3.8.3"
  },
  "vscode": {
   "interpreter": {
    "hash": "448ba9f652ad7a32d5d8c97f484bc3dd0f03de1cac66cb0020c98af1a078b6d3"
   }
  }
 },
 "nbformat": 4,
 "nbformat_minor": 4
}
