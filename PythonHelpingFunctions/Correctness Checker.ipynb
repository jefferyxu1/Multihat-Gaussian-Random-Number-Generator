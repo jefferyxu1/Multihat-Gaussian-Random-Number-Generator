{
 "cells": [
  {
   "cell_type": "code",
   "execution_count": 5,
   "metadata": {},
   "outputs": [],
   "source": [
    "import numpy as np\n",
    "\n",
    "# First File\n",
    "file = open(\"OutputHex1.txt\", \"r\")\n",
    "data1 = []\n",
    "for i in range(24000):\n",
    "    line = file.readline()\n",
    "    if not line:\n",
    "        break\n",
    "    data1.append(line.strip())\n",
    "    \n",
    "# Second File\n",
    "file = open(\"OutputHex2.txt\", \"r\")\n",
    "data2 = []\n",
    "for i in range(24000):\n",
    "    line = file.readline()\n",
    "    if not line:\n",
    "        break\n",
    "    data2.append(line.strip())\n",
    "    \n",
    "for i in range(24000):\n",
    "    if (data1[i] != data2[i]):\n",
    "        print(data1[i], data2[i], i)"
   ]
  },
  {
   "cell_type": "code",
   "execution_count": 3,
   "metadata": {},
   "outputs": [],
   "source": [
    "# # First File\n",
    "# file = open(\"LFSROutput1.txt\", \"r\")\n",
    "# data1 = []\n",
    "# for i in range(1999):\n",
    "#     line = file.readline()\n",
    "#     if not line:\n",
    "#         break\n",
    "#     data1.append(line.strip())\n",
    "    \n",
    "# # Second File\n",
    "# file = open(\"LFSROutput2.txt\", \"r\")\n",
    "# data2 = []\n",
    "# for i in range(1999):\n",
    "#     line = file.readline()\n",
    "#     if not line:\n",
    "#         break\n",
    "#     data2.append(line.strip())\n",
    "    \n",
    "# for i in range(1999):\n",
    "#     if (data1[i] != data2[i]):\n",
    "#         print(data1[i], data2[i], i)"
   ]
  },
  {
   "cell_type": "code",
   "execution_count": 3,
   "metadata": {},
   "outputs": [
    {
     "name": "stdout",
     "output_type": "stream",
     "text": [
      "4\n"
     ]
    }
   ],
   "source": []
  }
 ],
 "metadata": {
  "kernelspec": {
   "display_name": "Python 3 (ipykernel)",
   "language": "python",
   "name": "python3"
  },
  "language_info": {
   "codemirror_mode": {
    "name": "ipython",
    "version": 3
   },
   "file_extension": ".py",
   "mimetype": "text/x-python",
   "name": "python",
   "nbconvert_exporter": "python",
   "pygments_lexer": "ipython3",
   "version": "3.8.3"
  }
 },
 "nbformat": 4,
 "nbformat_minor": 4
}
